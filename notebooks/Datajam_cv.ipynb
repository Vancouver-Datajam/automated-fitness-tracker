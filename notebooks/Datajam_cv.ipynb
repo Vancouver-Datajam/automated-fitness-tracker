{
  "nbformat": 4,
  "nbformat_minor": 2,
  "metadata": {
    "kernelspec": {
      "display_name": "Python 3 (ipykernel)",
      "language": "python",
      "name": "python3"
    },
    "language_info": {
      "codemirror_mode": {
        "name": "ipython",
        "version": 3
      },
      "file_extension": ".py",
      "mimetype": "text/x-python",
      "name": "python",
      "nbconvert_exporter": "python",
      "pygments_lexer": "ipython3",
      "version": "3.7.3"
    },
    "colab": {
      "name": "Datajam_cv.ipynb",
      "provenance": []
    },
    "accelerator": "GPU"
  },
  "cells": [
    {
      "cell_type": "code",
      "execution_count": 1,
      "source": [
        "import pandas as pd\n",
        "import numpy as np\n",
        "import matplotlib.pyplot as plt\n",
        "import seaborn as sns"
      ],
      "outputs": [],
      "metadata": {
        "id": "3WEHlcAo8LUR"
      }
    },
    {
      "cell_type": "code",
      "execution_count": 2,
      "source": [
        "from Pre_processing import *"
      ],
      "outputs": [],
      "metadata": {
        "id": "10WUmUa_8LUS"
      }
    },
    {
      "cell_type": "code",
      "execution_count": 3,
      "source": [
        "df_curl = pd.read_csv(r'coords-curls.csv')\n",
        "df_sqt = pd.read_csv(r'coords-squads.csv')"
      ],
      "outputs": [],
      "metadata": {
        "id": "bTyZGmze8LUT"
      }
    },
    {
      "cell_type": "code",
      "execution_count": 4,
      "source": [
        "df_c = Pre_process(df_curl)\n",
        "df_s = Pre_process(df_sqt)\n",
        "df_c = df_c.replace('curls', 1)\n",
        "df_s = df_s.replace('squats', 0)"
      ],
      "outputs": [],
      "metadata": {
        "id": "ZKCnaZV08LUT"
      }
    },
    {
      "cell_type": "code",
      "execution_count": 5,
      "source": [
        "df_total = pd.concat([df_c, df_s], axis=0)"
      ],
      "outputs": [],
      "metadata": {
        "id": "_EPs637Z8LUU"
      }
    },
    {
      "cell_type": "code",
      "execution_count": 6,
      "source": [
        "df_total.head(2)"
      ],
      "outputs": [
        {
          "output_type": "execute_result",
          "data": {
            "text/html": [
              "<div>\n",
              "<style scoped>\n",
              "    .dataframe tbody tr th:only-of-type {\n",
              "        vertical-align: middle;\n",
              "    }\n",
              "\n",
              "    .dataframe tbody tr th {\n",
              "        vertical-align: top;\n",
              "    }\n",
              "\n",
              "    .dataframe thead th {\n",
              "        text-align: right;\n",
              "    }\n",
              "</style>\n",
              "<table border=\"1\" class=\"dataframe\">\n",
              "  <thead>\n",
              "    <tr style=\"text-align: right;\">\n",
              "      <th></th>\n",
              "      <th>vid.no</th>\n",
              "      <th>obs.no</th>\n",
              "      <th>frame.no</th>\n",
              "      <th>pose</th>\n",
              "      <th>y0</th>\n",
              "      <th>z0</th>\n",
              "      <th>y1</th>\n",
              "      <th>z1</th>\n",
              "      <th>y2</th>\n",
              "      <th>z2</th>\n",
              "      <th>y3</th>\n",
              "      <th>z3</th>\n",
              "      <th>y4</th>\n",
              "      <th>z4</th>\n",
              "      <th>y5</th>\n",
              "      <th>z5</th>\n",
              "      <th>y6</th>\n",
              "      <th>z6</th>\n",
              "      <th>y7</th>\n",
              "      <th>z7</th>\n",
              "      <th>y8</th>\n",
              "      <th>z8</th>\n",
              "      <th>y9</th>\n",
              "      <th>z9</th>\n",
              "      <th>y10</th>\n",
              "      <th>z10</th>\n",
              "      <th>y11</th>\n",
              "      <th>z11</th>\n",
              "      <th>y12</th>\n",
              "      <th>z12</th>\n",
              "      <th>y13</th>\n",
              "      <th>z13</th>\n",
              "      <th>y14</th>\n",
              "      <th>z14</th>\n",
              "      <th>y15</th>\n",
              "      <th>z15</th>\n",
              "      <th>y16</th>\n",
              "      <th>z16</th>\n",
              "      <th>y17</th>\n",
              "      <th>z17</th>\n",
              "      <th>y18</th>\n",
              "      <th>z18</th>\n",
              "      <th>y19</th>\n",
              "      <th>z19</th>\n",
              "      <th>y20</th>\n",
              "      <th>z20</th>\n",
              "      <th>y21</th>\n",
              "      <th>z21</th>\n",
              "      <th>y22</th>\n",
              "      <th>z22</th>\n",
              "      <th>y23</th>\n",
              "      <th>z23</th>\n",
              "      <th>y24</th>\n",
              "      <th>z24</th>\n",
              "      <th>y25</th>\n",
              "      <th>z25</th>\n",
              "      <th>y26</th>\n",
              "      <th>z26</th>\n",
              "      <th>y27</th>\n",
              "      <th>z27</th>\n",
              "      <th>y28</th>\n",
              "      <th>z28</th>\n",
              "      <th>y29</th>\n",
              "      <th>z29</th>\n",
              "      <th>y30</th>\n",
              "      <th>z30</th>\n",
              "      <th>y31</th>\n",
              "      <th>z31</th>\n",
              "      <th>y32</th>\n",
              "      <th>z32</th>\n",
              "    </tr>\n",
              "  </thead>\n",
              "  <tbody>\n",
              "    <tr>\n",
              "      <th>0</th>\n",
              "      <td>1</td>\n",
              "      <td>1</td>\n",
              "      <td>1</td>\n",
              "      <td>1</td>\n",
              "      <td>0.018654</td>\n",
              "      <td>-0.81768</td>\n",
              "      <td>0.041363</td>\n",
              "      <td>-0.850829</td>\n",
              "      <td>0.054339</td>\n",
              "      <td>-0.848987</td>\n",
              "      <td>0.064071</td>\n",
              "      <td>-0.847145</td>\n",
              "      <td>0.000811</td>\n",
              "      <td>-0.848987</td>\n",
              "      <td>-0.012165</td>\n",
              "      <td>-0.847145</td>\n",
              "      <td>-0.02352</td>\n",
              "      <td>-0.845304</td>\n",
              "      <td>0.083536</td>\n",
              "      <td>-0.823204</td>\n",
              "      <td>-0.036496</td>\n",
              "      <td>-0.821363</td>\n",
              "      <td>0.047851</td>\n",
              "      <td>-0.775322</td>\n",
              "      <td>-0.007299</td>\n",
              "      <td>-0.773481</td>\n",
              "      <td>0.19708</td>\n",
              "      <td>-0.569061</td>\n",
              "      <td>-0.146796</td>\n",
              "      <td>-0.567219</td>\n",
              "      <td>0.190592</td>\n",
              "      <td>-0.257827</td>\n",
              "      <td>-0.187348</td>\n",
              "      <td>-0.252302</td>\n",
              "      <td>0.232766</td>\n",
              "      <td>0.055249</td>\n",
              "      <td>-0.239254</td>\n",
              "      <td>0.025783</td>\n",
              "      <td>0.273317</td>\n",
              "      <td>0.128913</td>\n",
              "      <td>-0.284672</td>\n",
              "      <td>0.095764</td>\n",
              "      <td>0.239254</td>\n",
              "      <td>0.130755</td>\n",
              "      <td>-0.265207</td>\n",
              "      <td>0.095764</td>\n",
              "      <td>0.218167</td>\n",
              "      <td>0.104972</td>\n",
              "      <td>-0.237632</td>\n",
              "      <td>0.073665</td>\n",
              "      <td>0.099757</td>\n",
              "      <td>0.007366</td>\n",
              "      <td>-0.099757</td>\n",
              "      <td>-0.007366</td>\n",
              "      <td>0.07056</td>\n",
              "      <td>0.366483</td>\n",
              "      <td>-0.161395</td>\n",
              "      <td>0.360958</td>\n",
              "      <td>0.049473</td>\n",
              "      <td>0.576427</td>\n",
              "      <td>-0.064071</td>\n",
              "      <td>0.515654</td>\n",
              "      <td>0.042985</td>\n",
              "      <td>0.604052</td>\n",
              "      <td>-0.038118</td>\n",
              "      <td>0.524862</td>\n",
              "      <td>0.060827</td>\n",
              "      <td>0.705341</td>\n",
              "      <td>-0.062449</td>\n",
              "      <td>0.640884</td>\n",
              "    </tr>\n",
              "    <tr>\n",
              "      <th>1</th>\n",
              "      <td>1</td>\n",
              "      <td>1</td>\n",
              "      <td>2</td>\n",
              "      <td>1</td>\n",
              "      <td>0.018654</td>\n",
              "      <td>-0.81768</td>\n",
              "      <td>0.041363</td>\n",
              "      <td>-0.850829</td>\n",
              "      <td>0.054339</td>\n",
              "      <td>-0.848987</td>\n",
              "      <td>0.064071</td>\n",
              "      <td>-0.847145</td>\n",
              "      <td>0.000811</td>\n",
              "      <td>-0.848987</td>\n",
              "      <td>-0.012165</td>\n",
              "      <td>-0.847145</td>\n",
              "      <td>-0.02352</td>\n",
              "      <td>-0.845304</td>\n",
              "      <td>0.083536</td>\n",
              "      <td>-0.823204</td>\n",
              "      <td>-0.036496</td>\n",
              "      <td>-0.821363</td>\n",
              "      <td>0.047851</td>\n",
              "      <td>-0.775322</td>\n",
              "      <td>-0.007299</td>\n",
              "      <td>-0.773481</td>\n",
              "      <td>0.19708</td>\n",
              "      <td>-0.569061</td>\n",
              "      <td>-0.146796</td>\n",
              "      <td>-0.567219</td>\n",
              "      <td>0.190592</td>\n",
              "      <td>-0.257827</td>\n",
              "      <td>-0.187348</td>\n",
              "      <td>-0.252302</td>\n",
              "      <td>0.232766</td>\n",
              "      <td>0.055249</td>\n",
              "      <td>-0.239254</td>\n",
              "      <td>0.025783</td>\n",
              "      <td>0.273317</td>\n",
              "      <td>0.128913</td>\n",
              "      <td>-0.284672</td>\n",
              "      <td>0.095764</td>\n",
              "      <td>0.239254</td>\n",
              "      <td>0.130755</td>\n",
              "      <td>-0.265207</td>\n",
              "      <td>0.095764</td>\n",
              "      <td>0.218167</td>\n",
              "      <td>0.104972</td>\n",
              "      <td>-0.237632</td>\n",
              "      <td>0.073665</td>\n",
              "      <td>0.099757</td>\n",
              "      <td>0.007366</td>\n",
              "      <td>-0.099757</td>\n",
              "      <td>-0.007366</td>\n",
              "      <td>0.07056</td>\n",
              "      <td>0.366483</td>\n",
              "      <td>-0.161395</td>\n",
              "      <td>0.360958</td>\n",
              "      <td>0.049473</td>\n",
              "      <td>0.576427</td>\n",
              "      <td>-0.064071</td>\n",
              "      <td>0.515654</td>\n",
              "      <td>0.042985</td>\n",
              "      <td>0.604052</td>\n",
              "      <td>-0.038118</td>\n",
              "      <td>0.524862</td>\n",
              "      <td>0.060827</td>\n",
              "      <td>0.705341</td>\n",
              "      <td>-0.062449</td>\n",
              "      <td>0.640884</td>\n",
              "    </tr>\n",
              "  </tbody>\n",
              "</table>\n",
              "</div>"
            ],
            "text/plain": [
              "   vid.no  obs.no  frame.no  pose  ...       y31       z31       y32       z32\n",
              "0       1       1         1     1  ...  0.060827  0.705341 -0.062449  0.640884\n",
              "1       1       1         2     1  ...  0.060827  0.705341 -0.062449  0.640884\n",
              "\n",
              "[2 rows x 70 columns]"
            ]
          },
          "metadata": {},
          "execution_count": 6
        }
      ],
      "metadata": {
        "colab": {
          "base_uri": "https://localhost:8080/",
          "height": 133
        },
        "id": "cYaZt6SY8LUV",
        "outputId": "d45851cb-0b92-477b-96b1-bce28af2f88d"
      }
    },
    {
      "cell_type": "code",
      "execution_count": 7,
      "source": [
        "train = df_total.iloc[:,4:].to_numpy()\n",
        "Xtrain = np.reshape(train,(-1,50,66))"
      ],
      "outputs": [],
      "metadata": {
        "id": "dv7VHueG8LUV"
      }
    },
    {
      "cell_type": "code",
      "execution_count": 8,
      "source": [
        "y1 = df_c.groupby(['vid.no','obs.no']).max()['pose']\n",
        "y2 = df_s.groupby(['vid.no','obs.no']).max()['pose']"
      ],
      "outputs": [],
      "metadata": {
        "id": "lK9IZ3L08LUW"
      }
    },
    {
      "cell_type": "code",
      "execution_count": 9,
      "source": [
        "ytrain = pd.concat([y1, y2], axis=0).values"
      ],
      "outputs": [],
      "metadata": {
        "id": "0YznAxor8LUW"
      }
    },
    {
      "cell_type": "code",
      "execution_count": 10,
      "source": [
        "ytrain = np.reshape(ytrain,(-1,1))"
      ],
      "outputs": [],
      "metadata": {
        "id": "ylEspCcU8LUX"
      }
    },
    {
      "cell_type": "code",
      "execution_count": 28,
      "source": [
        "from sklearn.model_selection import train_test_split\n",
        "\n",
        "x_train, x_test, y_train, y_test = train_test_split(Xtrain, ytrain, test_size = 0.25, random_state = 3)"
      ],
      "outputs": [],
      "metadata": {
        "id": "LUlcNmzK8LUX"
      }
    },
    {
      "cell_type": "code",
      "execution_count": 29,
      "source": [
        "x_train.shape"
      ],
      "outputs": [
        {
          "output_type": "execute_result",
          "data": {
            "text/plain": [
              "(365, 50, 66)"
            ]
          },
          "metadata": {},
          "execution_count": 29
        }
      ],
      "metadata": {
        "colab": {
          "base_uri": "https://localhost:8080/"
        },
        "id": "0JUNpzoI8LUY",
        "outputId": "92c9a6d0-bde2-4cf1-edbc-f3e0db0caa9c"
      }
    },
    {
      "cell_type": "code",
      "execution_count": 30,
      "source": [
        "y_train.shape"
      ],
      "outputs": [
        {
          "output_type": "execute_result",
          "data": {
            "text/plain": [
              "(365, 1)"
            ]
          },
          "metadata": {},
          "execution_count": 30
        }
      ],
      "metadata": {
        "colab": {
          "base_uri": "https://localhost:8080/"
        },
        "id": "K2dN7O8D8LUZ",
        "outputId": "5c4615e0-25cb-4c76-d5f8-df0add7baef5"
      }
    },
    {
      "cell_type": "code",
      "execution_count": 31,
      "source": [
        "import torch\n",
        "import torch.nn as nn\n",
        "device = torch.device('cuda') if torch.cuda.is_available() else torch.device('cpu')"
      ],
      "outputs": [],
      "metadata": {
        "id": "BKqXCNOH8LUa"
      }
    },
    {
      "cell_type": "code",
      "execution_count": 32,
      "source": [
        "tensor_X_test = torch.from_numpy(x_test)\n",
        "print('test_data_size:',tensor_X_test.size())\n",
        "tensor_y_test = torch.from_numpy(y_test)\n",
        "print('test_label_size:',tensor_y_test.size())\n",
        "n_data_size_test = tensor_X_test.size()[0]\n",
        "print('n_data_size_test:',n_data_size_test)\n",
        "\n",
        "tensor_X_train = torch.from_numpy(x_train)\n",
        "print('train_data_size:',tensor_X_train.size())\n",
        "tensor_y_train = torch.from_numpy(y_train)\n",
        "print('train_label_size:',tensor_y_train.size())\n",
        "n_data_size_train = tensor_X_train.size()[0]\n",
        "print('n_data_size_train:',n_data_size_train)"
      ],
      "outputs": [
        {
          "output_type": "stream",
          "name": "stdout",
          "text": [
            "test_data_size: torch.Size([122, 50, 66])\n",
            "test_label_size: torch.Size([122, 1])\n",
            "n_data_size_test: 122\n",
            "train_data_size: torch.Size([365, 50, 66])\n",
            "train_label_size: torch.Size([365, 1])\n",
            "n_data_size_train: 365\n"
          ]
        }
      ],
      "metadata": {
        "colab": {
          "base_uri": "https://localhost:8080/"
        },
        "id": "5FaiSbQU8LUb",
        "outputId": "1d9a4a2f-6da9-4ca1-823b-2e844fb0b82a"
      }
    },
    {
      "cell_type": "code",
      "execution_count": 19,
      "source": [
        "class LSTM(nn.Module):\n",
        "    \n",
        "    def __init__(self,input_dim,hidden_dim,output_dim,layer_num):\n",
        "        super(LSTM,self).__init__()\n",
        "        self.hidden_dim = hidden_dim\n",
        "        self.output_dim = output_dim\n",
        "        self.lstm = torch.nn.LSTM(input_dim,hidden_dim,layer_num,batch_first=True)\n",
        "        self.fc = torch.nn.Linear(hidden_dim,output_dim)\n",
        "        self.bn = nn.BatchNorm1d(50)\n",
        "        \n",
        "    def forward(self,inputs):\n",
        "        x = self.bn(inputs)\n",
        "        lstm_out,(hn,cn) = self.lstm(x)\n",
        "        out = self.fc(lstm_out[:,-1,:])\n",
        "        return out"
      ],
      "outputs": [],
      "metadata": {
        "id": "iRxO6Syo8LUb"
      }
    },
    {
      "cell_type": "code",
      "execution_count": 20,
      "source": [
        "n_hidden = 128\n",
        "n_joints = 33*2\n",
        "n_categories = 2\n",
        "n_layer = 3\n",
        "rnn = LSTM(n_joints,n_hidden,n_categories,n_layer)\n",
        "rnn.to(device)"
      ],
      "outputs": [
        {
          "output_type": "execute_result",
          "data": {
            "text/plain": [
              "LSTM(\n",
              "  (lstm): LSTM(66, 128, num_layers=3, batch_first=True)\n",
              "  (fc): Linear(in_features=128, out_features=2, bias=True)\n",
              "  (bn): BatchNorm1d(50, eps=1e-05, momentum=0.1, affine=True, track_running_stats=True)\n",
              ")"
            ]
          },
          "metadata": {},
          "execution_count": 20
        }
      ],
      "metadata": {
        "colab": {
          "base_uri": "https://localhost:8080/"
        },
        "id": "6JB8loFI8LUc",
        "outputId": "e8bf96c4-6d72-4a31-a1bb-09b734f10b0b"
      }
    },
    {
      "cell_type": "code",
      "execution_count": 21,
      "source": [
        "def categoryFromOutput(output):\n",
        "    top_n, top_i = output.topk(1)\n",
        "    category_i = top_i[0].item()\n",
        "    return LABELS[category_i], category_i"
      ],
      "outputs": [],
      "metadata": {
        "id": "N67eeAmC8LUd"
      }
    },
    {
      "cell_type": "code",
      "execution_count": 22,
      "source": [
        "LABELS = ['curls','squats']"
      ],
      "outputs": [],
      "metadata": {
        "id": "Y0DTVcF08LUd"
      }
    },
    {
      "cell_type": "code",
      "execution_count": 23,
      "source": [
        "import random\n",
        "def randomTrainingExampleBatch(batch_size,flag,num=-1):\n",
        "    if flag == 'train':\n",
        "        X = tensor_X_train\n",
        "        y = tensor_y_train\n",
        "        data_size = n_data_size_train\n",
        "    elif flag == 'test':\n",
        "        X = tensor_X_test\n",
        "        y = tensor_y_test\n",
        "        data_size = n_data_size_test\n",
        "    if num == -1:\n",
        "        ran_num = random.randint(0,data_size-batch_size)\n",
        "    else:\n",
        "        ran_num = num\n",
        "    pose_sequence_tensor = X[ran_num:(ran_num+batch_size)]\n",
        "    pose_sequence_tensor = pose_sequence_tensor\n",
        "    category_tensor = y[ran_num:ran_num+batch_size,:]\n",
        "    return category_tensor.long(),pose_sequence_tensor"
      ],
      "outputs": [],
      "metadata": {
        "id": "NSb4siZe8LUd"
      }
    },
    {
      "cell_type": "code",
      "execution_count": 24,
      "source": [
        "import torch.optim as optim\r\n",
        "import time\r\n",
        "import math\r\n",
        "\r\n",
        "criterion = nn.CrossEntropyLoss()\r\n",
        "learning_rate = 0.0005\r\n",
        "optimizer = optim.SGD(rnn.parameters(),lr=learning_rate,momentum=0.9)\r\n",
        "#scheduler = optim.lr_scheduler.StepLR(optimizer, step_size=10000, gamma=0.1)\r\n",
        "\r\n",
        "n_iters = 100000\r\n",
        "#n_iters = 60000\r\n",
        "print_every = 1000\r\n",
        "plot_every = 1000\r\n",
        "batch_size = 128\r\n",
        "\r\n",
        "# Keep track of losses for plotting\r\n",
        "current_loss = 0\r\n",
        "all_losses = []\r\n",
        "\r\n",
        "def timeSince(since):\r\n",
        "    now = time.time()\r\n",
        "    s = now - since\r\n",
        "    m = math.floor(s / 60)\r\n",
        "    s -= m * 60\r\n",
        "    return '%dm %ds' % (m, s)\r\n",
        "\r\n",
        "start = time.time()\r\n",
        "\r\n",
        "for iter in range(1, n_iters + 1):\r\n",
        "   \r\n",
        "    category_tensor, input_sequence = randomTrainingExampleBatch(batch_size,'train')\r\n",
        "    input_sequence = input_sequence.to(device)\r\n",
        "    category_tensor = category_tensor.to(device)\r\n",
        "    category_tensor = torch.squeeze(category_tensor)\r\n",
        "    \r\n",
        "    optimizer.zero_grad()\r\n",
        "    \r\n",
        "    output = rnn(input_sequence.float())\r\n",
        "    loss = criterion(output, category_tensor)\r\n",
        "    loss.backward()\r\n",
        "    optimizer.step() \r\n",
        "    \r\n",
        "    current_loss += loss.item()\r\n",
        "    \r\n",
        "    category = LABELS[int(category_tensor[0])]\r\n",
        "\r\n",
        "    # Print iter number, loss, name and guess\r\n",
        "    if iter % print_every == 0:\r\n",
        "        guess, guess_i = categoryFromOutput(output)\r\n",
        "        correct = '✓' if guess == category else '✗ (%s)' % category\r\n",
        "        print('%d %d%% (%s) %.4f  / %s %s' % (iter, iter / n_iters * 100, timeSince(start), loss, guess, correct))\r\n",
        "        \r\n",
        "    # Add current loss avg to list of losses\r\n",
        "    if iter % plot_every == 0:\r\n",
        "        all_losses.append(current_loss / plot_every)\r\n",
        "        current_loss = 0"
      ],
      "outputs": [
        {
          "output_type": "stream",
          "name": "stdout",
          "text": [
            "1000 1% (0m 19s) 0.6864  / squats ✓\n",
            "2000 2% (0m 39s) 0.6871  / curls ✗ (squats)\n",
            "3000 3% (0m 59s) 0.6127  / squats ✓\n",
            "4000 4% (1m 18s) 0.2627  / curls ✓\n",
            "5000 5% (1m 38s) 0.0845  / squats ✓\n",
            "6000 6% (1m 57s) 0.1268  / squats ✓\n",
            "7000 7% (2m 17s) 0.0190  / curls ✓\n",
            "8000 8% (2m 37s) 0.0073  / squats ✓\n",
            "9000 9% (2m 56s) 0.0066  / curls ✓\n",
            "10000 10% (3m 16s) 0.0599  / squats ✓\n",
            "11000 11% (3m 35s) 0.0181  / curls ✓\n",
            "12000 12% (3m 55s) 0.0035  / squats ✓\n",
            "13000 13% (4m 14s) 0.0027  / curls ✓\n",
            "14000 14% (4m 34s) 0.0016  / curls ✓\n",
            "15000 15% (4m 54s) 0.0014  / squats ✓\n",
            "16000 16% (5m 13s) 0.0011  / squats ✓\n",
            "17000 17% (5m 32s) 0.0010  / squats ✓\n",
            "18000 18% (5m 52s) 0.0010  / squats ✓\n",
            "19000 19% (6m 12s) 0.0008  / curls ✓\n",
            "20000 20% (6m 31s) 0.0007  / squats ✓\n",
            "21000 21% (6m 51s) 0.0006  / squats ✓\n",
            "22000 22% (7m 11s) 0.0006  / squats ✓\n",
            "23000 23% (7m 30s) 0.0005  / curls ✓\n",
            "24000 24% (7m 50s) 0.0005  / squats ✓\n",
            "25000 25% (8m 9s) 0.0004  / squats ✓\n",
            "26000 26% (8m 29s) 0.0004  / curls ✓\n",
            "27000 27% (8m 48s) 0.0004  / squats ✓\n",
            "28000 28% (9m 8s) 0.0005  / curls ✓\n",
            "29000 28% (9m 28s) 0.0004  / squats ✓\n",
            "30000 30% (9m 47s) 0.0003  / squats ✓\n",
            "31000 31% (10m 7s) 0.0003  / squats ✓\n",
            "32000 32% (10m 26s) 0.0003  / curls ✓\n",
            "33000 33% (10m 46s) 0.0003  / curls ✓\n",
            "34000 34% (11m 6s) 0.0005  / squats ✓\n",
            "35000 35% (11m 25s) 0.0003  / curls ✓\n",
            "36000 36% (11m 45s) 0.0003  / curls ✓\n",
            "37000 37% (12m 5s) 0.0003  / curls ✓\n",
            "38000 38% (12m 24s) 0.0002  / squats ✓\n",
            "39000 39% (12m 44s) 0.0002  / curls ✓\n",
            "40000 40% (13m 3s) 0.0002  / curls ✓\n",
            "41000 41% (13m 23s) 0.0002  / squats ✓\n",
            "42000 42% (13m 42s) 0.0002  / curls ✓\n",
            "43000 43% (14m 2s) 0.0003  / squats ✓\n",
            "44000 44% (14m 22s) 0.0002  / curls ✓\n",
            "45000 45% (14m 41s) 0.0002  / squats ✓\n",
            "46000 46% (15m 1s) 0.0008  / squats ✓\n",
            "47000 47% (15m 20s) 0.0005  / squats ✓\n",
            "48000 48% (15m 41s) 0.0004  / curls ✓\n",
            "49000 49% (16m 2s) 0.0005  / squats ✓\n",
            "50000 50% (16m 22s) 0.0003  / curls ✓\n",
            "51000 51% (16m 42s) 0.0003  / curls ✓\n",
            "52000 52% (17m 2s) 0.0003  / squats ✓\n",
            "53000 53% (17m 23s) 0.0002  / curls ✓\n",
            "54000 54% (17m 43s) 0.0003  / curls ✓\n",
            "55000 55% (18m 3s) 0.0003  / squats ✓\n",
            "56000 56% (18m 23s) 0.0003  / squats ✓\n",
            "57000 56% (18m 43s) 0.0002  / curls ✓\n",
            "58000 57% (19m 3s) 0.0002  / squats ✓\n",
            "59000 59% (19m 23s) 0.0003  / curls ✓\n",
            "60000 60% (19m 43s) 0.0002  / curls ✓\n",
            "61000 61% (20m 3s) 0.0002  / squats ✓\n",
            "62000 62% (20m 23s) 0.0002  / squats ✓\n",
            "63000 63% (20m 44s) 0.0002  / curls ✓\n",
            "64000 64% (21m 4s) 0.0002  / curls ✓\n",
            "65000 65% (21m 24s) 0.0002  / squats ✓\n",
            "66000 66% (21m 44s) 0.0002  / squats ✓\n",
            "67000 67% (22m 4s) 0.0002  / curls ✓\n",
            "68000 68% (22m 24s) 0.0002  / curls ✓\n",
            "69000 69% (22m 44s) 0.0002  / curls ✓\n",
            "70000 70% (23m 4s) 0.0001  / curls ✓\n",
            "71000 71% (23m 24s) 0.0001  / squats ✓\n",
            "72000 72% (23m 44s) 0.0001  / curls ✓\n",
            "73000 73% (24m 4s) 0.0001  / squats ✓\n",
            "74000 74% (24m 24s) 0.0001  / squats ✓\n",
            "75000 75% (24m 44s) 0.0001  / curls ✓\n",
            "76000 76% (25m 4s) 0.0001  / squats ✓\n",
            "77000 77% (25m 24s) 0.0002  / squats ✓\n",
            "78000 78% (25m 45s) 0.0001  / curls ✓\n",
            "79000 79% (26m 5s) 0.0002  / squats ✓\n",
            "80000 80% (26m 25s) 0.0002  / curls ✓\n",
            "81000 81% (26m 45s) 0.0001  / squats ✓\n",
            "82000 82% (27m 5s) 0.0001  / squats ✓\n",
            "83000 83% (27m 25s) 0.0001  / curls ✓\n",
            "84000 84% (27m 45s) 0.0001  / curls ✓\n",
            "85000 85% (28m 5s) 0.0002  / curls ✓\n",
            "86000 86% (28m 25s) 0.0002  / squats ✓\n",
            "87000 87% (28m 45s) 0.0001  / squats ✓\n",
            "88000 88% (29m 5s) 0.0001  / curls ✓\n",
            "89000 89% (29m 25s) 0.0001  / curls ✓\n",
            "90000 90% (29m 46s) 0.0001  / squats ✓\n",
            "91000 91% (30m 6s) 0.0001  / curls ✓\n",
            "92000 92% (30m 26s) 0.0001  / squats ✓\n",
            "93000 93% (30m 46s) 0.0001  / curls ✓\n",
            "94000 94% (31m 6s) 0.0001  / squats ✓\n",
            "95000 95% (31m 26s) 0.0001  / squats ✓\n",
            "96000 96% (31m 46s) 0.0001  / squats ✓\n",
            "97000 97% (32m 6s) 0.0001  / curls ✓\n",
            "98000 98% (32m 26s) 0.0001  / curls ✓\n",
            "99000 99% (32m 46s) 0.0001  / squats ✓\n",
            "100000 100% (33m 6s) 0.0001  / squats ✓\n"
          ]
        }
      ],
      "metadata": {
        "colab": {
          "base_uri": "https://localhost:8080/"
        },
        "id": "js4N4pf68LUe",
        "outputId": "5ebe91fe-b1b7-46c7-f03d-454ce511937f"
      }
    },
    {
      "cell_type": "code",
      "execution_count": 25,
      "source": [
        "torch.save(rnn.state_dict(),'lstm_6_bn.pkl')"
      ],
      "outputs": [],
      "metadata": {
        "id": "9e5TMIxj9Mgk"
      }
    },
    {
      "cell_type": "code",
      "execution_count": 26,
      "source": [
        "def test(flag):\r\n",
        "    if flag == 'train':\r\n",
        "        n = n_data_size_train\r\n",
        "    elif flag == 'test':\r\n",
        "        n = n_data_size_test   \r\n",
        "        \r\n",
        "    with torch.no_grad():\r\n",
        "        right = 0\r\n",
        "        for i in range(n):\r\n",
        "            category_tensor, inputs = randomTrainingExampleBatch(1,flag,i)\r\n",
        "            category = LABELS[int(category_tensor[0])]\r\n",
        "            inputs = inputs.to(device)\r\n",
        "            output = rnn(inputs)\r\n",
        "            guess, guess_i = categoryFromOutput(output)\r\n",
        "            category_i = LABELS.index(category)\r\n",
        "            if category_i == guess_i:\r\n",
        "                right+=1\r\n",
        "    print(flag,'accuracy',right/n)"
      ],
      "outputs": [],
      "metadata": {
        "id": "wZHu1NIEFehR"
      }
    },
    {
      "cell_type": "code",
      "execution_count": null,
      "source": [],
      "outputs": [],
      "metadata": {
        "id": "KTKUQUHvIGUi"
      }
    }
  ]
}