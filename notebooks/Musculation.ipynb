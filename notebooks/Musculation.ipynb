{
  "nbformat": 4,
  "nbformat_minor": 5,
  "metadata": {
    "kernelspec": {
      "display_name": "Python 3",
      "language": "python",
      "name": "python3"
    },
    "language_info": {
      "codemirror_mode": {
        "name": "ipython",
        "version": 3
      },
      "file_extension": ".py",
      "mimetype": "text/x-python",
      "name": "python",
      "nbconvert_exporter": "python",
      "pygments_lexer": "ipython3",
      "version": "3.7.6"
    },
    "colab": {
      "name": "Musculation.ipynb",
      "provenance": [],
      "collapsed_sections": [],
      "include_colab_link": true
    }
  },
  "cells": [
    {
      "cell_type": "markdown",
      "source": [
        "<a href=\"https://colab.research.google.com/github/Vancouver-Datajam/python-computer-vision/blob/main/notebooks/Musculation.ipynb\" target=\"_parent\"><img src=\"https://colab.research.google.com/assets/colab-badge.svg\" alt=\"Open In Colab\"/></a>"
      ],
      "metadata": {
        "id": "view-in-github",
        "colab_type": "text"
      }
    },
    {
      "cell_type": "code",
      "execution_count": null,
      "source": [
        "!git clone https://github.com/Vancouver-Datajam/python-computer-vision.git"
      ],
      "outputs": [],
      "metadata": {
        "id": "s_-M_cOsMCYg"
      }
    },
    {
      "cell_type": "code",
      "execution_count": null,
      "source": [
        "\r\n",
        "!pip install mediapipe==v0.8.6\r\n",
        "!pip install opencv-python\r\n",
        "import cv2\r\n",
        "import numpy as np\r\n",
        "import time\r\n",
        "!cp /content/python-computer-vision/scripts/PoseModule.py /content/\r\n",
        "import PoseModule as pm\r\n",
        "from google.colab.patches import cv2_imshow\r\n",
        "import csv\r\n",
        "\r\n",
        "\r\n"
      ],
      "outputs": [],
      "metadata": {
        "id": "d528f217"
      }
    },
    {
      "cell_type": "code",
      "execution_count": null,
      "source": [
        "cap = cv2.VideoCapture(\"python-computer-vision/data/curls.mp4\")\r\n",
        "out = cv2.VideoWriter('output_video.mp4',cv2.VideoWriter_fourcc(*'MPV4'), 30, (1280, 720))\r\n",
        "detector = pm.poseDetector()\r\n",
        "count = 0\r\n",
        "dir = 0\r\n",
        "pTime = 0\r\n",
        "\r\n",
        "#momo=================\r\n",
        "#first column is for pose \"curls\" and \"squats\"\r\n",
        "num_coords = len(lmList) #number of coordinates (which should come out to 33 for the pose)\r\n",
        "num_coords\r\n",
        "\r\n",
        "landmarks = ['pose'] #this is for the column headers\r\n",
        "for x in range(1, num_coords+1):\r\n",
        "    landmarks += ['x{}'.format(x), 'y{}'.format(x), 'z{}'.format(x)]\r\n",
        "landmarks\r\n",
        "\r\n",
        "with open('coords.csv', mode='w', newline='') as f: #writing the columns to coords.csv\r\n",
        "    csv_writer = csv.writer(f, delimiter=',', quotechar='\"', quoting=csv.QUOTE_MINIMAL)\r\n",
        "    csv_writer.writerow(landmarks)\r\n",
        "\r\n",
        "pose_name = \"curls\" #change this for each pose\r\n",
        "#momo=================\r\n",
        "\r\n",
        "while True:\r\n",
        "    success, img = cap.read()\r\n",
        "    if not success:\r\n",
        "      break\r\n",
        "    img = cv2.resize(img, (1280, 720))\r\n",
        "    # img = cv2.imread(\"AiTrainer/test.jpg\")\r\n",
        "    img = detector.findPose(img, False)\r\n",
        "    lmList = detector.findPosition(img, False)\r\n",
        "    # print(lmList)\r\n",
        "    if len(lmList) != 0:\r\n",
        "        # Right Arm\r\n",
        "        angle = detector.findAngle(img, 12, 14, 16)\r\n",
        "        # # Left Arm\r\n",
        "        #angle = detector.findAngle(img, 11, 13, 15,False)\r\n",
        "        per = np.interp(angle, (210, 310), (0, 100))\r\n",
        "        bar = np.interp(angle, (210, 310), (650, 100))\r\n",
        "        # print(angle, per)\r\n",
        "\r\n",
        "        # Check for the dumbbell curls\r\n",
        "        color = (255, 0, 255)\r\n",
        "        if per >=80: #100:\r\n",
        "            color = (0, 255, 0)\r\n",
        "            if dir == 0:\r\n",
        "                count += 0.5\r\n",
        "                dir = 1\r\n",
        "        if per <=10: #0:\r\n",
        "            color = (0, 255, 0)\r\n",
        "            if dir == 1:\r\n",
        "                count += 0.5\r\n",
        "                dir = 0\r\n",
        "        print(count)\r\n",
        "\r\n",
        "        # Draw Bar\r\n",
        "        cv2.rectangle(img, (1100, 100), (1175, 650), color, 3)\r\n",
        "        cv2.rectangle(img, (1100, int(bar)), (1175, 650), color, cv2.FILLED)\r\n",
        "        cv2.putText(img, f'{int(per)} %', (1100, 75), cv2.FONT_HERSHEY_PLAIN, 4,\r\n",
        "                    color, 4)\r\n",
        "\r\n",
        "        # Draw Curl Count\r\n",
        "        cv2.rectangle(img, (0, 450), (250, 720), (0, 255, 0), cv2.FILLED)\r\n",
        "        cv2.putText(img, str(int(count)), (45, 670), cv2.FONT_HERSHEY_PLAIN, 15,\r\n",
        "                    (255, 0, 0), 25)\r\n",
        "\r\n",
        "    cTime = time.time()\r\n",
        "    fps = 1 / (cTime - pTime)\r\n",
        "    pTime = cTime\r\n",
        "    cv2.putText(img, str(int(fps)), (50, 100), cv2.FONT_HERSHEY_PLAIN, 5,\r\n",
        "                (255, 0, 0), 5)\r\n",
        "\r\n",
        "    \r\n",
        "    ######---momo addition start\r\n",
        "    #extract to csv\r\n",
        "    try:\r\n",
        "            # Extract Pose landmarks\r\n",
        "            pose_row = list(np.array(lmList).flatten())\r\n",
        "            pose_row\r\n",
        "            \r\n",
        "            # Append class name \r\n",
        "            pose_row.insert(0, pose_name)\r\n",
        "            \r\n",
        "            # Export to CSV\r\n",
        "            with open('coords.csv', mode='a', newline='') as f:\r\n",
        "                csv_writer = csv.writer(f, delimiter=',', quotechar='\"', quoting=csv.QUOTE_MINIMAL)\r\n",
        "                csv_writer.writerow(pose_row) \r\n",
        "            \r\n",
        "    except:\r\n",
        "        pass\r\n",
        "\r\n",
        "    ####---momo addition end\r\n",
        "    \r\n",
        "    #cv2.imshow(\"Image\", img) \r\n",
        "    out.write(img)\r\n",
        "    #cv2_imshow(img)# to run in google colab\r\n",
        "    #cv2.waitKey(1)\r\n",
        "cap.release()\r\n",
        "out.release()"
      ],
      "outputs": [],
      "metadata": {
        "id": "aab3acc8"
      }
    },
    {
      "cell_type": "code",
      "execution_count": null,
      "source": [],
      "outputs": [],
      "metadata": {}
    }
  ]
}