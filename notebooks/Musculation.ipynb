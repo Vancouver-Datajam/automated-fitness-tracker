{
 "cells": [
  {
   "cell_type": "markdown",
   "id": "c5db2ee6",
   "metadata": {
    "colab_type": "text",
    "id": "view-in-github"
   },
   "source": [
    "<a href=\"https://colab.research.google.com/github/Vancouver-Datajam/python-computer-vision/blob/main/notebooks/Musculation.ipynb\" target=\"_parent\"><img src=\"https://colab.research.google.com/assets/colab-badge.svg\" alt=\"Open In Colab\"/></a>"
   ]
  },
  {
   "cell_type": "code",
   "execution_count": 12,
   "id": "61caa482-e5ee-497d-9c9b-a304b329fda3",
   "metadata": {},
   "outputs": [
    {
     "name": "stdout",
     "output_type": "stream",
     "text": [
      "Requirement already satisfied: mediapipe==v0.8.6 in /home/srishtiy/anaconda3/lib/python3.8/site-packages (0.8.6)\n",
      "Requirement already satisfied: attrs>=19.1.0 in /home/srishtiy/anaconda3/lib/python3.8/site-packages (from mediapipe==v0.8.6) (20.3.0)\n",
      "Requirement already satisfied: numpy in /home/srishtiy/anaconda3/lib/python3.8/site-packages (from mediapipe==v0.8.6) (1.20.1)\n",
      "Requirement already satisfied: absl-py in /home/srishtiy/anaconda3/lib/python3.8/site-packages (from mediapipe==v0.8.6) (0.14.0)\n",
      "Requirement already satisfied: six in /home/srishtiy/anaconda3/lib/python3.8/site-packages (from mediapipe==v0.8.6) (1.15.0)\n",
      "Requirement already satisfied: protobuf>=3.11.4 in /home/srishtiy/anaconda3/lib/python3.8/site-packages (from mediapipe==v0.8.6) (3.18.0)\n",
      "Requirement already satisfied: matplotlib in /home/srishtiy/anaconda3/lib/python3.8/site-packages (from mediapipe==v0.8.6) (3.3.4)\n",
      "Requirement already satisfied: wheel in /home/srishtiy/anaconda3/lib/python3.8/site-packages (from mediapipe==v0.8.6) (0.36.2)\n",
      "Requirement already satisfied: opencv-contrib-python in /home/srishtiy/anaconda3/lib/python3.8/site-packages (from mediapipe==v0.8.6) (4.5.3.56)\n",
      "Requirement already satisfied: kiwisolver>=1.0.1 in /home/srishtiy/anaconda3/lib/python3.8/site-packages (from matplotlib->mediapipe==v0.8.6) (1.3.1)\n",
      "Requirement already satisfied: python-dateutil>=2.1 in /home/srishtiy/anaconda3/lib/python3.8/site-packages (from matplotlib->mediapipe==v0.8.6) (2.8.1)\n",
      "Requirement already satisfied: pyparsing!=2.0.4,!=2.1.2,!=2.1.6,>=2.0.3 in /home/srishtiy/anaconda3/lib/python3.8/site-packages (from matplotlib->mediapipe==v0.8.6) (2.4.7)\n",
      "Requirement already satisfied: cycler>=0.10 in /home/srishtiy/anaconda3/lib/python3.8/site-packages (from matplotlib->mediapipe==v0.8.6) (0.10.0)\n",
      "Requirement already satisfied: pillow>=6.2.0 in /home/srishtiy/anaconda3/lib/python3.8/site-packages (from matplotlib->mediapipe==v0.8.6) (8.2.0)\n",
      "\u001b[33mWARNING: You are using pip version 21.1.3; however, version 21.2.4 is available.\n",
      "You should consider upgrading via the '/home/srishtiy/anaconda3/bin/python -m pip install --upgrade pip' command.\u001b[0m\n",
      "Requirement already satisfied: opencv-python in /home/srishtiy/anaconda3/lib/python3.8/site-packages (4.5.3.56)\n",
      "Requirement already satisfied: numpy>=1.17.3 in /home/srishtiy/anaconda3/lib/python3.8/site-packages (from opencv-python) (1.20.1)\n",
      "\u001b[33mWARNING: You are using pip version 21.1.3; however, version 21.2.4 is available.\n",
      "You should consider upgrading via the '/home/srishtiy/anaconda3/bin/python -m pip install --upgrade pip' command.\u001b[0m\n"
     ]
    }
   ],
   "source": [
    "!pip install mediapipe==v0.8.6\n",
    "!pip install opencv-python"
   ]
  },
  {
   "cell_type": "code",
   "execution_count": 10,
   "id": "s_-M_cOsMCYg",
   "metadata": {
    "id": "s_-M_cOsMCYg"
   },
   "outputs": [],
   "source": [
    "!cp ../scripts/PoseModule.py ../\n",
    "import PoseModule as pm"
   ]
  },
  {
   "cell_type": "code",
   "execution_count": 13,
   "id": "d528f217",
   "metadata": {
    "id": "d528f217"
   },
   "outputs": [],
   "source": [
    "import cv2\n",
    "import numpy as np\n",
    "import time"
   ]
  },
  {
   "cell_type": "code",
   "execution_count": 15,
   "id": "aab3acc8",
   "metadata": {
    "id": "aab3acc8"
   },
   "outputs": [],
   "source": [
    "cap = cv2.VideoCapture(\"../data/curls.mp4\")\n",
    "out = cv2.VideoWriter('output_video.avi',cv2.VideoWriter_fourcc(*'DIVX'), 30, (1280, 720))\n",
    "detector = pm.poseDetector()\n",
    "count = 0\n",
    "dir = 0\n",
    "pTime = 0\n",
    "while True:\n",
    "    success, img = cap.read()\n",
    "    if not success:\n",
    "      break\n",
    "    img = cv2.resize(img, (1280, 720))\n",
    "    # img = cv2.imread(\"AiTrainer/test.jpg\")\n",
    "    img = detector.findPose(img, False)\n",
    "    lmList = detector.findPosition(img, False)\n",
    "    # print(lmList)\n",
    "    if len(lmList) != 0:\n",
    "        # Right Arm\n",
    "        angle = detector.findAngle(img, 12, 14, 16)\n",
    "        # # Left Arm\n",
    "        #angle = detector.findAngle(img, 11, 13, 15,False)\n",
    "        per = np.interp(angle, (210, 310), (0, 100))\n",
    "        bar = np.interp(angle, (210, 310), (650, 100))\n",
    "        # print(angle, per)\n",
    "\n",
    "        # Check for the dumbbell curls\n",
    "        color = (255, 0, 255)\n",
    "        if per >=80: #100:\n",
    "            color = (0, 255, 0)\n",
    "            if dir == 0:\n",
    "                count += 0.5\n",
    "                dir = 1\n",
    "        if per <=10: #0:\n",
    "            color = (0, 255, 0)\n",
    "            if dir == 1:\n",
    "                count += 0.5\n",
    "                dir = 0\n",
    "\n",
    "        # Draw Bar\n",
    "        cv2.rectangle(img, (1100, 100), (1175, 650), color, 3)\n",
    "        cv2.rectangle(img, (1100, int(bar)), (1175, 650), color, cv2.FILLED)\n",
    "        cv2.putText(img, f'{int(per)} %', (1100, 75), cv2.FONT_HERSHEY_PLAIN, 4,\n",
    "                    color, 4)\n",
    "\n",
    "        # Draw Curl Count\n",
    "        cv2.rectangle(img, (0, 450), (250, 720), (0, 255, 0), cv2.FILLED)\n",
    "        cv2.putText(img, str(int(count)), (45, 670), cv2.FONT_HERSHEY_PLAIN, 15,\n",
    "                    (255, 0, 0), 25)\n",
    "\n",
    "    cTime = time.time()\n",
    "    fps = 1 / (cTime - pTime)\n",
    "    pTime = cTime\n",
    "    cv2.putText(img, str(int(fps)), (50, 100), cv2.FONT_HERSHEY_PLAIN, 5,\n",
    "                (255, 0, 0), 5)\n",
    "\n",
    "    #cv2.imshow(\"Image\", img) \n",
    "    out.write(img)\n",
    "    #cv2_imshow(img)# to run in google colab\n",
    "    #cv2.waitKey(1)\n",
    "cap.release()\n",
    "out.release()"
   ]
  },
  {
   "cell_type": "code",
   "execution_count": null,
   "id": "6a02bc10-0883-4a62-9f3c-3b00fc7cf614",
   "metadata": {},
   "outputs": [],
   "source": []
  }
 ],
 "metadata": {
  "colab": {
   "collapsed_sections": [],
   "include_colab_link": true,
   "name": "Musculation.ipynb",
   "provenance": []
  },
  "kernelspec": {
   "display_name": "Python 3",
   "language": "python",
   "name": "python3"
  },
  "language_info": {
   "codemirror_mode": {
    "name": "ipython",
    "version": 3
   },
   "file_extension": ".py",
   "mimetype": "text/x-python",
   "name": "python",
   "nbconvert_exporter": "python",
   "pygments_lexer": "ipython3",
   "version": "3.8.8"
  }
 },
 "nbformat": 4,
 "nbformat_minor": 5
}
